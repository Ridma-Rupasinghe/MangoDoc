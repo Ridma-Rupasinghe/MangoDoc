{
 "cells": [
  {
   "cell_type": "code",
   "execution_count": 1,
   "id": "39cfe76a",
   "metadata": {},
   "outputs": [],
   "source": [
    "import os\n",
    "import shutil\n",
    "import numpy as np\n",
    "from sklearn.model_selection import train_test_split\n",
    "\n"
   ]
  },
  {
   "cell_type": "code",
   "execution_count": 2,
   "id": "5fd7ab78",
   "metadata": {},
   "outputs": [],
   "source": [
    "original_dataset_dir = 'Dataset_Initial'\n",
    "final_dataset_dir = 'Dataset_finalised'\n",
    "\n",
    "train_dir = os.path.join(final_dataset_dir, 'train')\n",
    "validation_dir = os.path.join(final_dataset_dir, 'val')\n",
    "test_dir = os.path.join(final_dataset_dir, 'test')\n",
    "\n",
    "os.makedirs(train_dir, exist_ok=True)\n",
    "os.makedirs(validation_dir, exist_ok=True)\n",
    "os.makedirs(test_dir, exist_ok=True)\n",
    "\n",
    "classes = os.listdir(original_dataset_dir)\n",
    "for cls in classes:\n",
    "    os.makedirs(os.path.join(train_dir, cls), exist_ok=True)\n",
    "    os.makedirs(os.path.join(validation_dir, cls), exist_ok=True)\n",
    "    os.makedirs(os.path.join(test_dir, cls), exist_ok=True)\n",
    "\n",
    "train_split = 0.7\n",
    "validation_split = 0.1\n",
    "test_split = 0.2\n",
    "\n",
    "for cls in classes:\n",
    "    cls_dir = os.path.join(original_dataset_dir, cls)\n",
    "    images = os.listdir(cls_dir)\n",
    "    images_train, images_temp = train_test_split(images, test_size=(1 - train_split), random_state=42)\n",
    "    images_val, images_test = train_test_split(images_temp, test_size=(test_split / (validation_split + test_split)), random_state=42)\n",
    "    \n",
    "    for img in images_train:\n",
    "        shutil.copy(os.path.join(cls_dir, img), os.path.join(train_dir, cls, img))\n",
    "        \n",
    "    for img in images_val:\n",
    "        shutil.copy(os.path.join(cls_dir, img), os.path.join(validation_dir, cls, img))\n",
    "        \n",
    "    for img in images_test:\n",
    "        shutil.copy(os.path.join(cls_dir, img), os.path.join(test_dir, cls, img))\n"
   ]
  },
  {
   "cell_type": "code",
   "execution_count": null,
   "id": "dcf73142",
   "metadata": {},
   "outputs": [],
   "source": []
  }
 ],
 "metadata": {
  "kernelspec": {
   "display_name": "Python 3 (ipykernel)",
   "language": "python",
   "name": "python3"
  },
  "language_info": {
   "codemirror_mode": {
    "name": "ipython",
    "version": 3
   },
   "file_extension": ".py",
   "mimetype": "text/x-python",
   "name": "python",
   "nbconvert_exporter": "python",
   "pygments_lexer": "ipython3",
   "version": "3.11.5"
  }
 },
 "nbformat": 4,
 "nbformat_minor": 5
}
